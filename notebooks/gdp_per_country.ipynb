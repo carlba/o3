{
 "cells": [
  {
   "cell_type": "code",
   "execution_count": null,
   "metadata": {},
   "outputs": [],
   "source": [
    "import io\n",
    "\n",
    "import pandas as pd\n",
    "import zipfile\n",
    "import requests\n",
    "\n",
    "pd.set_option('display.float_format', lambda x: f'{x:,.2f}')"
   ]
  },
  {
   "cell_type": "markdown",
   "metadata": {},
   "source": [
    "## GDP Per Country"
   ]
  },
  {
   "cell_type": "code",
   "execution_count": null,
   "metadata": {},
   "outputs": [],
   "source": [
    "# List of World Bank Aggregate Groups\n",
    "world_bank_aggregates = ['Arab World', 'Caribbean small states', 'Central Europe and the Baltics',\n",
    "                        'Early-demographic dividend', 'East Asia & Pacific',\n",
    "                        'East Asia & Pacific (excluding high income)', 'East Asia & Pacific (IDA & IBRD countries)',\n",
    "                        'Euro area', 'Europe & Central Asia', 'Europe & Central Asia (excluding high income)',\n",
    "                        'Europe & Central Asia (IDA & IBRD countries)', 'European Union',\n",
    "                        'Fragile and conflict affected situations', 'Heavily indebted poor countries (HIPC)',\n",
    "                        'High income', 'IBRD only', 'IDA & IBRD total',  'IDA blend',  'IDA only',  'IDA total',\n",
    "                        'Late-demographic dividend', 'Latin America & Caribbean', 'Latin America & Caribbean (excluding high income)',\n",
    "                        'Latin America & the Caribbean (IDA & IBRD countries)',\n",
    "                        'Least developed countries: UN classification', 'Low & middle income', 'Low income',\n",
    "                        'Lower middle income', 'Middle East & North Africa', \n",
    "                        'Middle East & North Africa (excluding high income)', \n",
    "                        'Middle East & North Africa (IDA & IBRD countries)',  'Middle income',  'North America',\n",
    "                        'Not classified',  'OECD members', 'Other small states', 'Pacific island small states',\n",
    "                        'Post-demographic dividend', 'Pre-demographic dividend', 'Small states', 'South Asia',\n",
    "                        'South Asia (IDA & IBRD)', 'Sub-Saharan Africa', \n",
    "                        'Sub-Saharan Africa (excluding high income)', 'Sub-Saharan Africa (IDA & IBRD countries)',\n",
    "                        'Upper middle income','World']\n",
    "\n",
    "\n",
    "# Download zip archive from The World Bank\n",
    "response = requests.get('http://api.worldbank.org/v2/en/indicator/NY.GDP.MKTP.CD?downloadformat=csv')\n",
    "downloaded_zipfile = zipfile.ZipFile(io.BytesIO(response.content))\n",
    "csv_filename = [filename for filename in downloaded_zipfile.namelist() \n",
    "                if filename.startswith('API_NY.GDP.MKTP.CD_DS2_en_csv_v2')]\n",
    "csv_file = downloaded_zipfile.open(csv_filename[0])\n",
    "\n",
    "# Read the CSV file contained in the zip archive\n",
    "gdp_per_c = pd.read_csv(csv_file, skiprows=3)\n",
    "\n",
    "\n",
    "# Cleanup the dataframe\n",
    "gdp_per_c = gdp_per_c.drop(['Indicator Name', 'Indicator Code', 'Country Code', 'Unnamed: 63', '2018'], axis=1)\n",
    "gdp_per_c = gdp_per_c.dropna(how='all')\n",
    "gdp_per_c.set_index('Country Name', inplace=True)\n",
    "gdp_per_c = gdp_per_c.drop(world_bank_aggregates)"
   ]
  },
  {
   "cell_type": "markdown",
   "metadata": {},
   "source": [
    "### Top 20 GDP Countries 2011"
   ]
  },
  {
   "cell_type": "code",
   "execution_count": null,
   "metadata": {
    "scrolled": false
   },
   "outputs": [],
   "source": [
    "gdp_per_c[['2011']][gdp_per_c['2011'].notna()].sort_values('2011', ascending=False).head(20)"
   ]
  },
  {
   "cell_type": "markdown",
   "metadata": {},
   "source": [
    "## Top 20 GDP Countries 1970-2011"
   ]
  },
  {
   "cell_type": "code",
   "execution_count": null,
   "metadata": {
    "scrolled": false
   },
   "outputs": [],
   "source": [
    "%matplotlib inline\n",
    "\n",
    "plot = (gdp_per_c.assign(avg=gdp_per_c.mean(axis=1)).sort_values('avg',ascending=False).drop('avg', axis=1)\n",
    "            .head(10).transpose().plot(figsize=(20,10)))"
   ]
  },
  {
   "cell_type": "markdown",
   "metadata": {},
   "source": [
    "## GDP Country Distribution 2017"
   ]
  },
  {
   "cell_type": "code",
   "execution_count": null,
   "metadata": {
    "scrolled": false
   },
   "outputs": [],
   "source": [
    "%matplotlib inline\n",
    "top_10 = gdp_per_c['2017'].sort_values(ascending=False).head(10)\n",
    "top_10.loc['Other'] = gdp_per_c['2017'].sort_values(ascending=False).iloc[10:].sum()\n",
    "plot = (top_10.plot(kind='pie', subplots=True, figsize=(20, 10), colormap='Paired'))"
   ]
  },
  {
   "cell_type": "code",
   "execution_count": null,
   "metadata": {},
   "outputs": [],
   "source": []
  }
 ],
 "metadata": {
  "kernelspec": {
   "display_name": "Python 3",
   "language": "python",
   "name": "python3"
  },
  "language_info": {
   "codemirror_mode": {
    "name": "ipython",
    "version": 3
   },
   "file_extension": ".py",
   "mimetype": "text/x-python",
   "name": "python",
   "nbconvert_exporter": "python",
   "pygments_lexer": "ipython3",
   "version": "3.6.8"
  }
 },
 "nbformat": 4,
 "nbformat_minor": 2
}
